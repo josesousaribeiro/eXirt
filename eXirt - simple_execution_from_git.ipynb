{
  "cells": [
    {
      "cell_type": "markdown",
      "metadata": {
        "id": "kjIG882ZoyVl"
      },
      "source": [
        "Simple example of eXirt's use"
      ]
    },
    {
      "cell_type": "markdown",
      "source": [
        "Run all bullets in the sequence below!"
      ],
      "metadata": {
        "id": "7Pzk_smLpiUR"
      }
    },
    {
      "cell_type": "markdown",
      "metadata": {
        "id": "tM_sX-w4IcIJ"
      },
      "source": [
        "\n",
        "\n",
        "Generate files?\n"
      ]
    },
    {
      "cell_type": "markdown",
      "metadata": {
        "id": "fYRB58lNnHAX"
      },
      "source": [
        "## Install dependences"
      ]
    },
    {
      "cell_type": "code",
      "source": [
        "!pip install catsim"
      ],
      "metadata": {
        "colab": {
          "base_uri": "https://localhost:8080/"
        },
        "id": "aFsegjKuFI-J",
        "outputId": "b6dca090-451c-4043-a676-8ced1212bf7d"
      },
      "execution_count": 23,
      "outputs": [
        {
          "output_type": "stream",
          "name": "stdout",
          "text": [
            "Looking in indexes: https://pypi.org/simple, https://us-python.pkg.dev/colab-wheels/public/simple/\n",
            "Requirement already satisfied: catsim in /usr/local/lib/python3.8/dist-packages (0.17.2)\n",
            "Requirement already satisfied: scikit-learn in /usr/local/lib/python3.8/dist-packages (from catsim) (1.0.2)\n",
            "Requirement already satisfied: json-tricks in /usr/local/lib/python3.8/dist-packages (from catsim) (3.16.1)\n",
            "Requirement already satisfied: matplotlib in /usr/local/lib/python3.8/dist-packages (from catsim) (3.5.3)\n",
            "Requirement already satisfied: tqdm in /usr/local/lib/python3.8/dist-packages (from catsim) (4.64.1)\n",
            "Requirement already satisfied: scipy in /usr/local/lib/python3.8/dist-packages (from catsim) (1.7.3)\n",
            "Requirement already satisfied: numpy in /usr/local/lib/python3.8/dist-packages (from catsim) (1.22.4)\n",
            "Requirement already satisfied: numexpr in /usr/local/lib/python3.8/dist-packages (from catsim) (2.8.4)\n",
            "Requirement already satisfied: python-dateutil>=2.7 in /usr/local/lib/python3.8/dist-packages (from matplotlib->catsim) (2.8.2)\n",
            "Requirement already satisfied: pyparsing>=2.2.1 in /usr/local/lib/python3.8/dist-packages (from matplotlib->catsim) (3.0.9)\n",
            "Requirement already satisfied: packaging>=20.0 in /usr/local/lib/python3.8/dist-packages (from matplotlib->catsim) (23.0)\n",
            "Requirement already satisfied: cycler>=0.10 in /usr/local/lib/python3.8/dist-packages (from matplotlib->catsim) (0.11.0)\n",
            "Requirement already satisfied: pillow>=6.2.0 in /usr/local/lib/python3.8/dist-packages (from matplotlib->catsim) (7.1.2)\n",
            "Requirement already satisfied: kiwisolver>=1.0.1 in /usr/local/lib/python3.8/dist-packages (from matplotlib->catsim) (1.4.4)\n",
            "Requirement already satisfied: fonttools>=4.22.0 in /usr/local/lib/python3.8/dist-packages (from matplotlib->catsim) (4.38.0)\n",
            "Requirement already satisfied: joblib>=0.11 in /usr/local/lib/python3.8/dist-packages (from scikit-learn->catsim) (1.2.0)\n",
            "Requirement already satisfied: threadpoolctl>=2.0.0 in /usr/local/lib/python3.8/dist-packages (from scikit-learn->catsim) (3.1.0)\n",
            "Requirement already satisfied: six>=1.5 in /usr/local/lib/python3.8/dist-packages (from python-dateutil>=2.7->matplotlib->catsim) (1.15.0)\n"
          ]
        }
      ]
    },
    {
      "cell_type": "code",
      "source": [
        "!pip install openml"
      ],
      "metadata": {
        "colab": {
          "base_uri": "https://localhost:8080/"
        },
        "id": "Bk5Q0f-wFTrs",
        "outputId": "2004599f-de12-4d40-92c1-9aab62cbf813"
      },
      "execution_count": 24,
      "outputs": [
        {
          "output_type": "stream",
          "name": "stdout",
          "text": [
            "Looking in indexes: https://pypi.org/simple, https://us-python.pkg.dev/colab-wheels/public/simple/\n",
            "Requirement already satisfied: openml in /usr/local/lib/python3.8/dist-packages (0.13.0)\n",
            "Requirement already satisfied: pandas>=1.0.0 in /usr/local/lib/python3.8/dist-packages (from openml) (1.3.5)\n",
            "Requirement already satisfied: scipy>=0.13.3 in /usr/local/lib/python3.8/dist-packages (from openml) (1.7.3)\n",
            "Requirement already satisfied: liac-arff>=2.4.0 in /usr/local/lib/python3.8/dist-packages (from openml) (2.5.0)\n",
            "Requirement already satisfied: minio in /usr/local/lib/python3.8/dist-packages (from openml) (7.1.13)\n",
            "Requirement already satisfied: numpy>=1.6.2 in /usr/local/lib/python3.8/dist-packages (from openml) (1.22.4)\n",
            "Requirement already satisfied: scikit-learn>=0.18 in /usr/local/lib/python3.8/dist-packages (from openml) (1.0.2)\n",
            "Requirement already satisfied: python-dateutil in /usr/local/lib/python3.8/dist-packages (from openml) (2.8.2)\n",
            "Requirement already satisfied: pyarrow in /usr/local/lib/python3.8/dist-packages (from openml) (9.0.0)\n",
            "Requirement already satisfied: requests in /usr/local/lib/python3.8/dist-packages (from openml) (2.25.1)\n",
            "Requirement already satisfied: xmltodict in /usr/local/lib/python3.8/dist-packages (from openml) (0.13.0)\n",
            "Requirement already satisfied: pytz>=2017.3 in /usr/local/lib/python3.8/dist-packages (from pandas>=1.0.0->openml) (2022.7.1)\n",
            "Requirement already satisfied: six>=1.5 in /usr/local/lib/python3.8/dist-packages (from python-dateutil->openml) (1.15.0)\n",
            "Requirement already satisfied: threadpoolctl>=2.0.0 in /usr/local/lib/python3.8/dist-packages (from scikit-learn>=0.18->openml) (3.1.0)\n",
            "Requirement already satisfied: joblib>=0.11 in /usr/local/lib/python3.8/dist-packages (from scikit-learn>=0.18->openml) (1.2.0)\n",
            "Requirement already satisfied: urllib3 in /usr/local/lib/python3.8/dist-packages (from minio->openml) (1.24.3)\n",
            "Requirement already satisfied: certifi in /usr/local/lib/python3.8/dist-packages (from minio->openml) (2022.12.7)\n",
            "Requirement already satisfied: idna<3,>=2.5 in /usr/local/lib/python3.8/dist-packages (from requests->openml) (2.10)\n",
            "Requirement already satisfied: chardet<5,>=3.0.2 in /usr/local/lib/python3.8/dist-packages (from requests->openml) (4.0.0)\n"
          ]
        }
      ]
    },
    {
      "cell_type": "code",
      "source": [
        "import openml\n",
        "import pandas as pd\n",
        "import statistics\n",
        "import numpy as np\n",
        "import random\n",
        "import copy\n",
        "\n",
        "\n",
        "from sklearn.metrics import accuracy_score\n",
        "from sklearn.model_selection import train_test_split\n",
        "from sklearn.ensemble import RandomForestClassifier\n",
        "from sklearn.ensemble import GradientBoostingClassifier\n",
        "from sklearn import metrics\n",
        "from google.colab import files"
      ],
      "metadata": {
        "id": "ySk3bH_Vm1Cn"
      },
      "execution_count": 25,
      "outputs": []
    },
    {
      "cell_type": "markdown",
      "metadata": {
        "id": "xQcwXWF97TrR"
      },
      "source": [
        "## Install eXirt "
      ]
    },
    {
      "cell_type": "code",
      "source": [
        "!wget https://raw.githubusercontent.com/josesousaribeiro/eXirt-XAI-Benchmark/main/decodIRT/decodIRT_MLtIRT.py\n",
        "!wget https://raw.githubusercontent.com/josesousaribeiro/eXirt-XAI-Benchmark/main/decodIRT/decodIRT_analysis.py"
      ],
      "metadata": {
        "colab": {
          "base_uri": "https://localhost:8080/"
        },
        "id": "j4duhc4dk7uT",
        "outputId": "fe7558e6-1d3c-4063-8404-5eb42bbcf1b0"
      },
      "execution_count": 26,
      "outputs": [
        {
          "output_type": "stream",
          "name": "stdout",
          "text": [
            "--2023-02-24 13:23:26--  https://raw.githubusercontent.com/josesousaribeiro/eXirt-XAI-Benchmark/main/decodIRT/decodIRT_MLtIRT.py\n",
            "Resolving raw.githubusercontent.com (raw.githubusercontent.com)... 185.199.108.133, 185.199.109.133, 185.199.110.133, ...\n",
            "Connecting to raw.githubusercontent.com (raw.githubusercontent.com)|185.199.108.133|:443... connected.\n",
            "HTTP request sent, awaiting response... 200 OK\n",
            "Length: 7453 (7.3K) [text/plain]\n",
            "Saving to: ‘decodIRT_MLtIRT.py.1’\n",
            "\n",
            "\rdecodIRT_MLtIRT.py.   0%[                    ]       0  --.-KB/s               \rdecodIRT_MLtIRT.py. 100%[===================>]   7.28K  --.-KB/s    in 0s      \n",
            "\n",
            "2023-02-24 13:23:26 (60.1 MB/s) - ‘decodIRT_MLtIRT.py.1’ saved [7453/7453]\n",
            "\n",
            "--2023-02-24 13:23:26--  https://raw.githubusercontent.com/josesousaribeiro/eXirt-XAI-Benchmark/main/decodIRT/decodIRT_analysis.py\n",
            "Resolving raw.githubusercontent.com (raw.githubusercontent.com)... 185.199.108.133, 185.199.109.133, 185.199.110.133, ...\n",
            "Connecting to raw.githubusercontent.com (raw.githubusercontent.com)|185.199.108.133|:443... connected.\n",
            "HTTP request sent, awaiting response... 200 OK\n",
            "Length: 33818 (33K) [text/plain]\n",
            "Saving to: ‘decodIRT_analysis.py.1’\n",
            "\n",
            "decodIRT_analysis.p 100%[===================>]  33.03K  --.-KB/s    in 0.003s  \n",
            "\n",
            "2023-02-24 13:23:26 (9.49 MB/s) - ‘decodIRT_analysis.py.1’ saved [33818/33818]\n",
            "\n"
          ]
        }
      ]
    },
    {
      "cell_type": "code",
      "execution_count": 27,
      "metadata": {
        "id": "0Pvq-euegHVF",
        "colab": {
          "base_uri": "https://localhost:8080/"
        },
        "outputId": "e00dc86a-db82-405f-b537-9bcecf8d0794"
      },
      "outputs": [
        {
          "output_type": "stream",
          "name": "stdout",
          "text": [
            "Looking in indexes: https://pypi.org/simple, https://us-python.pkg.dev/colab-wheels/public/simple/\n",
            "Requirement already satisfied: eXirt in /usr/local/lib/python3.8/dist-packages (1.0.1.2)\n"
          ]
        }
      ],
      "source": [
        "!pip install eXirt"
      ]
    },
    {
      "cell_type": "code",
      "source": [
        "from pyexirt import eXirt as explainer"
      ],
      "metadata": {
        "id": "e9HT4ufBGNbt"
      },
      "execution_count": 28,
      "outputs": []
    },
    {
      "cell_type": "markdown",
      "source": [
        "## Load data and Pre-process"
      ],
      "metadata": {
        "id": "nvKrH0aUlvC-"
      }
    },
    {
      "cell_type": "code",
      "source": [
        "def normalize(df):\n",
        "    # copy the dataframe\n",
        "    df_norm = df.copy()\n",
        "    # apply min-max scaling\n",
        "    for column in df_norm.columns:\n",
        "        if(len(df_norm[column].unique()) > 1): #fix NaN generation\n",
        "          df_norm[column] = (df_norm[column] - df_norm[column].min()) / (df_norm[column].max() - df_norm[column].min())\n",
        "        else:\n",
        "          df_norm[column] = 0\n",
        "    return df_norm"
      ],
      "metadata": {
        "id": "2YGB9snVsqaZ"
      },
      "execution_count": 18,
      "outputs": []
    },
    {
      "cell_type": "code",
      "source": [
        "#Select dataset name by openml link https://www.openml.org/search?sort=date\n",
        "dataset_name = \"pc1\""
      ],
      "metadata": {
        "id": "hSjFdmrjp9ui"
      },
      "execution_count": 19,
      "outputs": []
    },
    {
      "cell_type": "code",
      "source": [
        "#load dataset by OpenML\n",
        "\n",
        "dataset = openml.datasets.get_dataset(dataset_name)\n",
        "X, Y, categorical_indicator, attribute_names = dataset.get_data(\n",
        "                  dataset_format=\"dataframe\", target=dataset.default_target_attribute)\n",
        "\n",
        "print(dataset)\n",
        "#Preprocess Y and X numerics\n",
        "\n",
        "if (Y.dtype != 'numeric'):\n",
        "  Y = Y.astype(int)\n",
        "\n",
        "for i,c in enumerate(X.columns):\n",
        "  if (X[c].dtype != 'float64'):\n",
        "    X = X.astype(float)\n",
        "\n",
        "#Normalization\n",
        "X = normalize(X)\n",
        "X_train, X_test, y_train, y_test = train_test_split(X, Y, test_size=0.3, stratify=Y) # 70% training and 30% test\n",
        "\n"
      ],
      "metadata": {
        "id": "oYts5cLPlzTE",
        "colab": {
          "base_uri": "https://localhost:8080/"
        },
        "outputId": "4b906f92-4af9-4195-94ed-535e65ede6f7"
      },
      "execution_count": 20,
      "outputs": [
        {
          "output_type": "stream",
          "name": "stdout",
          "text": [
            "OpenML Dataset\n",
            "==============\n",
            "Name..........: pc1\n",
            "Version.......: 1\n",
            "Format........: ARFF\n",
            "Upload Date...: 2014-10-06 23:57:45\n",
            "Licence.......: Public\n",
            "Download URL..: https://api.openml.org/data/v1/download/53951/pc1.arff\n",
            "OpenML URL....: https://www.openml.org/d/1068\n",
            "# of features.: 22\n",
            "# of instances: 1109\n"
          ]
        }
      ]
    },
    {
      "cell_type": "markdown",
      "source": [
        "## Creation and prediction model"
      ],
      "metadata": {
        "id": "mtvHAgCLtPXm"
      }
    },
    {
      "cell_type": "code",
      "source": [
        "model = RandomForestClassifier(200)\n",
        "model.fit(X_train, y_train)\n",
        "prediction = model.predict(X_test)"
      ],
      "metadata": {
        "id": "MgvqLmsum_nC"
      },
      "execution_count": 21,
      "outputs": []
    },
    {
      "cell_type": "markdown",
      "source": [
        "## Global explanation rank"
      ],
      "metadata": {
        "id": "_NNGxuw4ucIB"
      }
    },
    {
      "cell_type": "code",
      "source": [
        "explainer = explainer.eXirt()"
      ],
      "metadata": {
        "id": "rhjOukpxtgXE"
      },
      "execution_count": 29,
      "outputs": []
    },
    {
      "cell_type": "code",
      "source": [
        "global_explanation_attributes, global_explanation_attributes_scores = explainer.explainRankByEXirt(model, X_train, X_test, y_train, y_test,dataset_name)"
      ],
      "metadata": {
        "id": "T8OEPD8bue2F"
      },
      "execution_count": 30,
      "outputs": []
    },
    {
      "cell_type": "code",
      "source": [
        "global_explanation_attributes"
      ],
      "metadata": {
        "colab": {
          "base_uri": "https://localhost:8080/"
        },
        "id": "Pd-KdbaMo4Zy",
        "outputId": "e47b973c-a96b-4dd1-819d-36c7e5891a1b"
      },
      "execution_count": 31,
      "outputs": [
        {
          "output_type": "execute_result",
          "data": {
            "text/plain": [
              "['locCodeAndComment',\n",
              " 'lOComment',\n",
              " 'lOBlank',\n",
              " 'N',\n",
              " 'uniq_Op',\n",
              " 'uniq_Opnd',\n",
              " 'loc',\n",
              " 'total_Op',\n",
              " 'lOCode',\n",
              " 'T',\n",
              " 'B',\n",
              " 'E',\n",
              " 'I',\n",
              " 'D',\n",
              " 'L',\n",
              " 'V',\n",
              " 'iv(G)',\n",
              " 'ev(g)',\n",
              " 'v(g)',\n",
              " 'total_Opnd',\n",
              " 'branchCount']"
            ]
          },
          "metadata": {},
          "execution_count": 31
        }
      ]
    },
    {
      "cell_type": "code",
      "source": [
        "global_explanation_attributes_scores"
      ],
      "metadata": {
        "colab": {
          "base_uri": "https://localhost:8080/",
          "height": 708
        },
        "id": "84ZM0d12zP4q",
        "outputId": "eafe9543-7216-48e6-cee3-979e569f0146"
      },
      "execution_count": 32,
      "outputs": [
        {
          "output_type": "execute_result",
          "data": {
            "text/plain": [
              "                  Final Score\n",
              "locCodeAndComment -113.913506\n",
              "lOComment         -113.776775\n",
              "lOBlank           -113.670619\n",
              "N                 -113.549347\n",
              "uniq_Op           -113.534192\n",
              "uniq_Opnd         -113.519036\n",
              "loc               -113.488725\n",
              "total_Op          -113.488725\n",
              "lOCode            -113.488725\n",
              "T                 -113.488725\n",
              "B                 -113.488725\n",
              "E                 -113.488725\n",
              "I                 -113.488725\n",
              "D                 -113.488725\n",
              "L                 -113.488725\n",
              "V                 -113.488725\n",
              "iv(G)             -113.488725\n",
              "ev(g)             -113.488725\n",
              "v(g)              -113.488725\n",
              "total_Opnd        -113.488725\n",
              "branchCount       -113.488725"
            ],
            "text/html": [
              "\n",
              "  <div id=\"df-c0bff0b4-4fa8-4768-9559-d03dcd156040\">\n",
              "    <div class=\"colab-df-container\">\n",
              "      <div>\n",
              "<style scoped>\n",
              "    .dataframe tbody tr th:only-of-type {\n",
              "        vertical-align: middle;\n",
              "    }\n",
              "\n",
              "    .dataframe tbody tr th {\n",
              "        vertical-align: top;\n",
              "    }\n",
              "\n",
              "    .dataframe thead th {\n",
              "        text-align: right;\n",
              "    }\n",
              "</style>\n",
              "<table border=\"1\" class=\"dataframe\">\n",
              "  <thead>\n",
              "    <tr style=\"text-align: right;\">\n",
              "      <th></th>\n",
              "      <th>Final Score</th>\n",
              "    </tr>\n",
              "  </thead>\n",
              "  <tbody>\n",
              "    <tr>\n",
              "      <th>locCodeAndComment</th>\n",
              "      <td>-113.913506</td>\n",
              "    </tr>\n",
              "    <tr>\n",
              "      <th>lOComment</th>\n",
              "      <td>-113.776775</td>\n",
              "    </tr>\n",
              "    <tr>\n",
              "      <th>lOBlank</th>\n",
              "      <td>-113.670619</td>\n",
              "    </tr>\n",
              "    <tr>\n",
              "      <th>N</th>\n",
              "      <td>-113.549347</td>\n",
              "    </tr>\n",
              "    <tr>\n",
              "      <th>uniq_Op</th>\n",
              "      <td>-113.534192</td>\n",
              "    </tr>\n",
              "    <tr>\n",
              "      <th>uniq_Opnd</th>\n",
              "      <td>-113.519036</td>\n",
              "    </tr>\n",
              "    <tr>\n",
              "      <th>loc</th>\n",
              "      <td>-113.488725</td>\n",
              "    </tr>\n",
              "    <tr>\n",
              "      <th>total_Op</th>\n",
              "      <td>-113.488725</td>\n",
              "    </tr>\n",
              "    <tr>\n",
              "      <th>lOCode</th>\n",
              "      <td>-113.488725</td>\n",
              "    </tr>\n",
              "    <tr>\n",
              "      <th>T</th>\n",
              "      <td>-113.488725</td>\n",
              "    </tr>\n",
              "    <tr>\n",
              "      <th>B</th>\n",
              "      <td>-113.488725</td>\n",
              "    </tr>\n",
              "    <tr>\n",
              "      <th>E</th>\n",
              "      <td>-113.488725</td>\n",
              "    </tr>\n",
              "    <tr>\n",
              "      <th>I</th>\n",
              "      <td>-113.488725</td>\n",
              "    </tr>\n",
              "    <tr>\n",
              "      <th>D</th>\n",
              "      <td>-113.488725</td>\n",
              "    </tr>\n",
              "    <tr>\n",
              "      <th>L</th>\n",
              "      <td>-113.488725</td>\n",
              "    </tr>\n",
              "    <tr>\n",
              "      <th>V</th>\n",
              "      <td>-113.488725</td>\n",
              "    </tr>\n",
              "    <tr>\n",
              "      <th>iv(G)</th>\n",
              "      <td>-113.488725</td>\n",
              "    </tr>\n",
              "    <tr>\n",
              "      <th>ev(g)</th>\n",
              "      <td>-113.488725</td>\n",
              "    </tr>\n",
              "    <tr>\n",
              "      <th>v(g)</th>\n",
              "      <td>-113.488725</td>\n",
              "    </tr>\n",
              "    <tr>\n",
              "      <th>total_Opnd</th>\n",
              "      <td>-113.488725</td>\n",
              "    </tr>\n",
              "    <tr>\n",
              "      <th>branchCount</th>\n",
              "      <td>-113.488725</td>\n",
              "    </tr>\n",
              "  </tbody>\n",
              "</table>\n",
              "</div>\n",
              "      <button class=\"colab-df-convert\" onclick=\"convertToInteractive('df-c0bff0b4-4fa8-4768-9559-d03dcd156040')\"\n",
              "              title=\"Convert this dataframe to an interactive table.\"\n",
              "              style=\"display:none;\">\n",
              "        \n",
              "  <svg xmlns=\"http://www.w3.org/2000/svg\" height=\"24px\"viewBox=\"0 0 24 24\"\n",
              "       width=\"24px\">\n",
              "    <path d=\"M0 0h24v24H0V0z\" fill=\"none\"/>\n",
              "    <path d=\"M18.56 5.44l.94 2.06.94-2.06 2.06-.94-2.06-.94-.94-2.06-.94 2.06-2.06.94zm-11 1L8.5 8.5l.94-2.06 2.06-.94-2.06-.94L8.5 2.5l-.94 2.06-2.06.94zm10 10l.94 2.06.94-2.06 2.06-.94-2.06-.94-.94-2.06-.94 2.06-2.06.94z\"/><path d=\"M17.41 7.96l-1.37-1.37c-.4-.4-.92-.59-1.43-.59-.52 0-1.04.2-1.43.59L10.3 9.45l-7.72 7.72c-.78.78-.78 2.05 0 2.83L4 21.41c.39.39.9.59 1.41.59.51 0 1.02-.2 1.41-.59l7.78-7.78 2.81-2.81c.8-.78.8-2.07 0-2.86zM5.41 20L4 18.59l7.72-7.72 1.47 1.35L5.41 20z\"/>\n",
              "  </svg>\n",
              "      </button>\n",
              "      \n",
              "  <style>\n",
              "    .colab-df-container {\n",
              "      display:flex;\n",
              "      flex-wrap:wrap;\n",
              "      gap: 12px;\n",
              "    }\n",
              "\n",
              "    .colab-df-convert {\n",
              "      background-color: #E8F0FE;\n",
              "      border: none;\n",
              "      border-radius: 50%;\n",
              "      cursor: pointer;\n",
              "      display: none;\n",
              "      fill: #1967D2;\n",
              "      height: 32px;\n",
              "      padding: 0 0 0 0;\n",
              "      width: 32px;\n",
              "    }\n",
              "\n",
              "    .colab-df-convert:hover {\n",
              "      background-color: #E2EBFA;\n",
              "      box-shadow: 0px 1px 2px rgba(60, 64, 67, 0.3), 0px 1px 3px 1px rgba(60, 64, 67, 0.15);\n",
              "      fill: #174EA6;\n",
              "    }\n",
              "\n",
              "    [theme=dark] .colab-df-convert {\n",
              "      background-color: #3B4455;\n",
              "      fill: #D2E3FC;\n",
              "    }\n",
              "\n",
              "    [theme=dark] .colab-df-convert:hover {\n",
              "      background-color: #434B5C;\n",
              "      box-shadow: 0px 1px 3px 1px rgba(0, 0, 0, 0.15);\n",
              "      filter: drop-shadow(0px 1px 2px rgba(0, 0, 0, 0.3));\n",
              "      fill: #FFFFFF;\n",
              "    }\n",
              "  </style>\n",
              "\n",
              "      <script>\n",
              "        const buttonEl =\n",
              "          document.querySelector('#df-c0bff0b4-4fa8-4768-9559-d03dcd156040 button.colab-df-convert');\n",
              "        buttonEl.style.display =\n",
              "          google.colab.kernel.accessAllowed ? 'block' : 'none';\n",
              "\n",
              "        async function convertToInteractive(key) {\n",
              "          const element = document.querySelector('#df-c0bff0b4-4fa8-4768-9559-d03dcd156040');\n",
              "          const dataTable =\n",
              "            await google.colab.kernel.invokeFunction('convertToInteractive',\n",
              "                                                     [key], {});\n",
              "          if (!dataTable) return;\n",
              "\n",
              "          const docLinkHtml = 'Like what you see? Visit the ' +\n",
              "            '<a target=\"_blank\" href=https://colab.research.google.com/notebooks/data_table.ipynb>data table notebook</a>'\n",
              "            + ' to learn more about interactive tables.';\n",
              "          element.innerHTML = '';\n",
              "          dataTable['output_type'] = 'display_data';\n",
              "          await google.colab.output.renderOutput(dataTable, element);\n",
              "          const docLink = document.createElement('div');\n",
              "          docLink.innerHTML = docLinkHtml;\n",
              "          element.appendChild(docLink);\n",
              "        }\n",
              "      </script>\n",
              "    </div>\n",
              "  </div>\n",
              "  "
            ]
          },
          "metadata": {},
          "execution_count": 32
        }
      ]
    }
  ],
  "metadata": {
    "colab": {
      "provenance": [],
      "collapsed_sections": [
        "fYRB58lNnHAX",
        "nvKrH0aUlvC-"
      ]
    },
    "kernelspec": {
      "display_name": "Python 3",
      "language": "python",
      "name": "python3"
    },
    "language_info": {
      "codemirror_mode": {
        "name": "ipython",
        "version": 3
      },
      "file_extension": ".py",
      "mimetype": "text/x-python",
      "name": "python",
      "nbconvert_exporter": "python",
      "pygments_lexer": "ipython3",
      "version": "3.7.4"
    }
  },
  "nbformat": 4,
  "nbformat_minor": 0
}