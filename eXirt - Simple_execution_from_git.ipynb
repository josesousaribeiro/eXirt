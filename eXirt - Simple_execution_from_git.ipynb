{
  "cells": [
    {
      "cell_type": "markdown",
      "metadata": {
        "id": "kjIG882ZoyVl"
      },
      "source": [
        "Simple example of eXirt's use"
      ]
    },
    {
      "cell_type": "markdown",
      "source": [
        "Run all bullets in the sequence below!"
      ],
      "metadata": {
        "id": "7Pzk_smLpiUR"
      }
    },
    {
      "cell_type": "markdown",
      "metadata": {
        "id": "tM_sX-w4IcIJ"
      },
      "source": [
        "\n",
        "\n",
        "Generate files?\n"
      ]
    },
    {
      "cell_type": "markdown",
      "metadata": {
        "id": "fYRB58lNnHAX"
      },
      "source": [
        "## Install dependences"
      ]
    },
    {
      "cell_type": "code",
      "source": [
        "!pip install openml\n",
        "!pip install catsim\n",
        "\n",
        "import openml\n",
        "import pandas as pd\n",
        "import statistics\n",
        "import numpy as np\n",
        "import random\n",
        "import copy\n",
        "\n",
        "\n",
        "from sklearn.metrics import accuracy_score\n",
        "from sklearn.model_selection import train_test_split\n",
        "from sklearn.ensemble import RandomForestClassifier\n",
        "from sklearn.ensemble import GradientBoostingClassifier\n",
        "from sklearn import metrics\n",
        "from google.colab import files\n",
        "\n"
      ],
      "metadata": {
        "colab": {
          "base_uri": "https://localhost:8080/"
        },
        "id": "ySk3bH_Vm1Cn",
        "outputId": "a622cb76-7ebe-4e2c-842c-2a0d88d8185d"
      },
      "execution_count": 1,
      "outputs": [
        {
          "output_type": "stream",
          "name": "stdout",
          "text": [
            "Looking in indexes: https://pypi.org/simple, https://us-python.pkg.dev/colab-wheels/public/simple/\n",
            "Collecting openml\n",
            "  Downloading openml-0.13.0-py3-none-any.whl (140 kB)\n",
            "\u001b[2K     \u001b[90m━━━━━━━━━━━━━━━━━━━━━━━━━━━━━━━━━━━━━━━\u001b[0m \u001b[32m140.1/140.1 KB\u001b[0m \u001b[31m3.4 MB/s\u001b[0m eta \u001b[36m0:00:00\u001b[0m\n",
            "\u001b[?25hCollecting xmltodict\n",
            "  Downloading xmltodict-0.13.0-py2.py3-none-any.whl (10.0 kB)\n",
            "Requirement already satisfied: scikit-learn>=0.18 in /usr/local/lib/python3.8/dist-packages (from openml) (1.0.2)\n",
            "Collecting liac-arff>=2.4.0\n",
            "  Downloading liac-arff-2.5.0.tar.gz (13 kB)\n",
            "  Preparing metadata (setup.py) ... \u001b[?25l\u001b[?25hdone\n",
            "Requirement already satisfied: pandas>=1.0.0 in /usr/local/lib/python3.8/dist-packages (from openml) (1.3.5)\n",
            "Requirement already satisfied: scipy>=0.13.3 in /usr/local/lib/python3.8/dist-packages (from openml) (1.7.3)\n",
            "Requirement already satisfied: numpy>=1.6.2 in /usr/local/lib/python3.8/dist-packages (from openml) (1.21.6)\n",
            "Requirement already satisfied: pyarrow in /usr/local/lib/python3.8/dist-packages (from openml) (9.0.0)\n",
            "Requirement already satisfied: requests in /usr/local/lib/python3.8/dist-packages (from openml) (2.25.1)\n",
            "Collecting minio\n",
            "  Downloading minio-7.1.13-py3-none-any.whl (76 kB)\n",
            "\u001b[2K     \u001b[90m━━━━━━━━━━━━━━━━━━━━━━━━━━━━━━━━━━━━━━━━\u001b[0m \u001b[32m76.2/76.2 KB\u001b[0m \u001b[31m4.2 MB/s\u001b[0m eta \u001b[36m0:00:00\u001b[0m\n",
            "\u001b[?25hRequirement already satisfied: python-dateutil in /usr/local/lib/python3.8/dist-packages (from openml) (2.8.2)\n",
            "Requirement already satisfied: pytz>=2017.3 in /usr/local/lib/python3.8/dist-packages (from pandas>=1.0.0->openml) (2022.7)\n",
            "Requirement already satisfied: six>=1.5 in /usr/local/lib/python3.8/dist-packages (from python-dateutil->openml) (1.15.0)\n",
            "Requirement already satisfied: threadpoolctl>=2.0.0 in /usr/local/lib/python3.8/dist-packages (from scikit-learn>=0.18->openml) (3.1.0)\n",
            "Requirement already satisfied: joblib>=0.11 in /usr/local/lib/python3.8/dist-packages (from scikit-learn>=0.18->openml) (1.2.0)\n",
            "Requirement already satisfied: certifi in /usr/local/lib/python3.8/dist-packages (from minio->openml) (2022.12.7)\n",
            "Requirement already satisfied: urllib3 in /usr/local/lib/python3.8/dist-packages (from minio->openml) (1.24.3)\n",
            "Requirement already satisfied: chardet<5,>=3.0.2 in /usr/local/lib/python3.8/dist-packages (from requests->openml) (4.0.0)\n",
            "Requirement already satisfied: idna<3,>=2.5 in /usr/local/lib/python3.8/dist-packages (from requests->openml) (2.10)\n",
            "Building wheels for collected packages: liac-arff\n",
            "  Building wheel for liac-arff (setup.py) ... \u001b[?25l\u001b[?25hdone\n",
            "  Created wheel for liac-arff: filename=liac_arff-2.5.0-py3-none-any.whl size=11732 sha256=0a9026422fe506fce21cef282771293a9d2aaf1dff0836441dbb1335efcb1d8b\n",
            "  Stored in directory: /root/.cache/pip/wheels/a2/de/68/bf3972de3ecb31e32bef59a7f4c75f0687a3674c476b347c14\n",
            "Successfully built liac-arff\n",
            "Installing collected packages: xmltodict, minio, liac-arff, openml\n",
            "Successfully installed liac-arff-2.5.0 minio-7.1.13 openml-0.13.0 xmltodict-0.13.0\n",
            "Looking in indexes: https://pypi.org/simple, https://us-python.pkg.dev/colab-wheels/public/simple/\n",
            "Collecting catsim\n",
            "  Downloading catsim-0.17.2-py3-none-any.whl (32 kB)\n",
            "Requirement already satisfied: tqdm in /usr/local/lib/python3.8/dist-packages (from catsim) (4.64.1)\n",
            "Requirement already satisfied: numexpr in /usr/local/lib/python3.8/dist-packages (from catsim) (2.8.4)\n",
            "Requirement already satisfied: matplotlib in /usr/local/lib/python3.8/dist-packages (from catsim) (3.2.2)\n",
            "Collecting json-tricks\n",
            "  Downloading json_tricks-3.16.1-py2.py3-none-any.whl (27 kB)\n",
            "Requirement already satisfied: numpy in /usr/local/lib/python3.8/dist-packages (from catsim) (1.21.6)\n",
            "Requirement already satisfied: scikit-learn in /usr/local/lib/python3.8/dist-packages (from catsim) (1.0.2)\n",
            "Requirement already satisfied: scipy in /usr/local/lib/python3.8/dist-packages (from catsim) (1.7.3)\n",
            "Requirement already satisfied: cycler>=0.10 in /usr/local/lib/python3.8/dist-packages (from matplotlib->catsim) (0.11.0)\n",
            "Requirement already satisfied: python-dateutil>=2.1 in /usr/local/lib/python3.8/dist-packages (from matplotlib->catsim) (2.8.2)\n",
            "Requirement already satisfied: pyparsing!=2.0.4,!=2.1.2,!=2.1.6,>=2.0.1 in /usr/local/lib/python3.8/dist-packages (from matplotlib->catsim) (3.0.9)\n",
            "Requirement already satisfied: kiwisolver>=1.0.1 in /usr/local/lib/python3.8/dist-packages (from matplotlib->catsim) (1.4.4)\n",
            "Requirement already satisfied: joblib>=0.11 in /usr/local/lib/python3.8/dist-packages (from scikit-learn->catsim) (1.2.0)\n",
            "Requirement already satisfied: threadpoolctl>=2.0.0 in /usr/local/lib/python3.8/dist-packages (from scikit-learn->catsim) (3.1.0)\n",
            "Requirement already satisfied: six>=1.5 in /usr/local/lib/python3.8/dist-packages (from python-dateutil>=2.1->matplotlib->catsim) (1.15.0)\n",
            "Installing collected packages: json-tricks, catsim\n",
            "Successfully installed catsim-0.17.2 json-tricks-3.16.1\n"
          ]
        }
      ]
    },
    {
      "cell_type": "code",
      "source": [
        "!wget https://raw.githubusercontent.com/josesousaribeiro/eXirt-XAI-Benchmark/main/decodIRT/decodIRT_MLtIRT.py\n",
        "!wget https://raw.githubusercontent.com/josesousaribeiro/eXirt-XAI-Benchmark/main/decodIRT/decodIRT_analysis.py"
      ],
      "metadata": {
        "id": "F7WqCKZ-mkIu"
      },
      "execution_count": null,
      "outputs": []
    },
    {
      "cell_type": "markdown",
      "metadata": {
        "id": "xQcwXWF97TrR"
      },
      "source": [
        "## Install eXirt "
      ]
    },
    {
      "cell_type": "code",
      "execution_count": 2,
      "metadata": {
        "id": "0Pvq-euegHVF",
        "colab": {
          "base_uri": "https://localhost:8080/"
        },
        "outputId": "278b039a-69ab-4ad8-ee28-bee00a3e85ff"
      },
      "outputs": [
        {
          "output_type": "stream",
          "name": "stdout",
          "text": [
            "Looking in indexes: https://pypi.org/simple, https://us-python.pkg.dev/colab-wheels/public/simple/\n",
            "Collecting eXirt\n",
            "  Downloading eXirt-1.0.0.6.tar.gz (8.8 kB)\n",
            "  Preparing metadata (setup.py) ... \u001b[?25l\u001b[?25hdone\n",
            "Building wheels for collected packages: eXirt\n",
            "  Building wheel for eXirt (setup.py) ... \u001b[?25l\u001b[?25hdone\n",
            "  Created wheel for eXirt: filename=eXirt-1.0.0.6-py3-none-any.whl size=8960 sha256=85fd4cee58f7948284c5755b85cb92ae00db8fe757f0b732eaa36ed2733e180b\n",
            "  Stored in directory: /root/.cache/pip/wheels/73/6d/d5/fa83a2fa26568b8e30a6aa100fcd6db0b485ba319a3ddd9a08\n",
            "Successfully built eXirt\n",
            "Installing collected packages: eXirt\n",
            "Successfully installed eXirt-1.0.0.6\n"
          ]
        }
      ],
      "source": [
        "!pip install eXirt"
      ]
    },
    {
      "cell_type": "code",
      "source": [
        "from eXirt import eXirt"
      ],
      "metadata": {
        "id": "e9HT4ufBGNbt"
      },
      "execution_count": 47,
      "outputs": []
    },
    {
      "cell_type": "markdown",
      "source": [
        "## Load data and Pre-process"
      ],
      "metadata": {
        "id": "nvKrH0aUlvC-"
      }
    },
    {
      "cell_type": "code",
      "source": [
        "def normalize(df):\n",
        "    # copy the dataframe\n",
        "    df_norm = df.copy()\n",
        "    # apply min-max scaling\n",
        "    for column in df_norm.columns:\n",
        "        if(len(df_norm[column].unique()) > 1): #fix NaN generation\n",
        "          df_norm[column] = (df_norm[column] - df_norm[column].min()) / (df_norm[column].max() - df_norm[column].min())\n",
        "        else:\n",
        "          df_norm[column] = 0\n",
        "    return df_norm"
      ],
      "metadata": {
        "id": "2YGB9snVsqaZ"
      },
      "execution_count": 31,
      "outputs": []
    },
    {
      "cell_type": "code",
      "source": [
        "#Select dataset name by openml link https://www.openml.org/search?sort=date\n",
        "dataset_name = \"pc1\""
      ],
      "metadata": {
        "id": "hSjFdmrjp9ui"
      },
      "execution_count": 32,
      "outputs": []
    },
    {
      "cell_type": "code",
      "source": [
        "#load dataset by OpenML\n",
        "\n",
        "dataset = openml.datasets.get_dataset(dataset_name)\n",
        "X, Y, categorical_indicator, attribute_names = dataset.get_data(\n",
        "                  dataset_format=\"dataframe\", target=dataset.default_target_attribute)\n",
        "\n",
        "print(dataset)\n",
        "#Preprocess Y and X numerics\n",
        "\n",
        "if (Y.dtype != 'numeric'):\n",
        "  Y = Y.astype(int)\n",
        "\n",
        "for i,c in enumerate(X.columns):\n",
        "  if (X[c].dtype != 'float64'):\n",
        "    X = X.astype(float)\n",
        "\n",
        "#Normalization\n",
        "X = normalize(X)\n",
        "X_train, X_test, y_train, y_test = train_test_split(X, Y, test_size=0.3, stratify=Y) # 70% training and 30% test\n",
        "\n"
      ],
      "metadata": {
        "id": "oYts5cLPlzTE",
        "colab": {
          "base_uri": "https://localhost:8080/"
        },
        "outputId": "a0c0a02e-0bff-4c0f-c5cf-2ba207e14373"
      },
      "execution_count": 33,
      "outputs": [
        {
          "output_type": "stream",
          "name": "stdout",
          "text": [
            "OpenML Dataset\n",
            "==============\n",
            "Name..........: pc1\n",
            "Version.......: 1\n",
            "Format........: ARFF\n",
            "Upload Date...: 2014-10-06 23:57:45\n",
            "Licence.......: Public\n",
            "Download URL..: https://api.openml.org/data/v1/download/53951/pc1.arff\n",
            "OpenML URL....: https://www.openml.org/d/1068\n",
            "# of features.: 22\n",
            "# of instances: 1109\n"
          ]
        }
      ]
    },
    {
      "cell_type": "markdown",
      "source": [
        "## Creation and prediction model"
      ],
      "metadata": {
        "id": "mtvHAgCLtPXm"
      }
    },
    {
      "cell_type": "code",
      "source": [
        "model = RandomForestClassifier(200)\n",
        "model.fit(X_train, y_train)\n",
        "prediction = model.predict(X_test)"
      ],
      "metadata": {
        "id": "MgvqLmsum_nC"
      },
      "execution_count": 34,
      "outputs": []
    },
    {
      "cell_type": "markdown",
      "source": [
        "## Global explanation rank"
      ],
      "metadata": {
        "id": "_NNGxuw4ucIB"
      }
    },
    {
      "cell_type": "code",
      "source": [
        "explainer = eXirt.eXirt()"
      ],
      "metadata": {
        "id": "rhjOukpxtgXE"
      },
      "execution_count": 48,
      "outputs": []
    },
    {
      "cell_type": "code",
      "source": [
        "global_explanation_attributes, global_explanation_attributes_scores = explainer.explainRankByEXirt(model, X_train, X_test, y_train, y_test,dataset_name)"
      ],
      "metadata": {
        "id": "T8OEPD8bue2F"
      },
      "execution_count": 36,
      "outputs": []
    },
    {
      "cell_type": "code",
      "source": [
        "global_explanation_attributes"
      ],
      "metadata": {
        "colab": {
          "base_uri": "https://localhost:8080/"
        },
        "id": "Pd-KdbaMo4Zy",
        "outputId": "1f2aa878-f567-4a4c-cdf9-14a199bb3529"
      },
      "execution_count": 37,
      "outputs": [
        {
          "output_type": "execute_result",
          "data": {
            "text/plain": [
              "['lOBlank',\n",
              " 'lOComment',\n",
              " 'locCodeAndComment',\n",
              " 'uniq_Opnd',\n",
              " 'loc',\n",
              " 'I',\n",
              " 'B',\n",
              " 'lOCode',\n",
              " 'uniq_Op',\n",
              " 'L',\n",
              " 'v(g)',\n",
              " 'branchCount',\n",
              " 'total_Opnd',\n",
              " 'V',\n",
              " 'T',\n",
              " 'ev(g)',\n",
              " 'E',\n",
              " 'total_Op',\n",
              " 'iv(G)',\n",
              " 'D',\n",
              " 'N']"
            ]
          },
          "metadata": {},
          "execution_count": 37
        }
      ]
    },
    {
      "cell_type": "code",
      "source": [
        "global_explanation_attributes_scores"
      ],
      "metadata": {
        "colab": {
          "base_uri": "https://localhost:8080/",
          "height": 708
        },
        "id": "84ZM0d12zP4q",
        "outputId": "6b23035a-3ced-4dd3-fb8c-6dfc03e00386"
      },
      "execution_count": 38,
      "outputs": [
        {
          "output_type": "execute_result",
          "data": {
            "text/plain": [
              "                  Final Score\n",
              "lOBlank           -114.108224\n",
              "lOComment         -114.055164\n",
              "locCodeAndComment -113.910991\n",
              "uniq_Opnd         -113.878039\n",
              "loc               -113.873193\n",
              "I                 -113.817281\n",
              "B                 -113.718709\n",
              "lOCode            -113.675764\n",
              "uniq_Op           -113.650467\n",
              "L                 -113.650459\n",
              "v(g)              -113.630226\n",
              "branchCount       -113.625174\n",
              "total_Opnd         -113.62265\n",
              "V                 -113.620127\n",
              "T                 -113.620127\n",
              "ev(g)             -113.617592\n",
              "E                 -113.615082\n",
              "total_Op          -113.615059\n",
              "iv(G)              -113.60244\n",
              "D                 -113.602429\n",
              "N                 -113.602429"
            ],
            "text/html": [
              "\n",
              "  <div id=\"df-84ef418e-eb9d-4d3b-82f4-5cdf1f999725\">\n",
              "    <div class=\"colab-df-container\">\n",
              "      <div>\n",
              "<style scoped>\n",
              "    .dataframe tbody tr th:only-of-type {\n",
              "        vertical-align: middle;\n",
              "    }\n",
              "\n",
              "    .dataframe tbody tr th {\n",
              "        vertical-align: top;\n",
              "    }\n",
              "\n",
              "    .dataframe thead th {\n",
              "        text-align: right;\n",
              "    }\n",
              "</style>\n",
              "<table border=\"1\" class=\"dataframe\">\n",
              "  <thead>\n",
              "    <tr style=\"text-align: right;\">\n",
              "      <th></th>\n",
              "      <th>Final Score</th>\n",
              "    </tr>\n",
              "  </thead>\n",
              "  <tbody>\n",
              "    <tr>\n",
              "      <th>lOBlank</th>\n",
              "      <td>-114.108224</td>\n",
              "    </tr>\n",
              "    <tr>\n",
              "      <th>lOComment</th>\n",
              "      <td>-114.055164</td>\n",
              "    </tr>\n",
              "    <tr>\n",
              "      <th>locCodeAndComment</th>\n",
              "      <td>-113.910991</td>\n",
              "    </tr>\n",
              "    <tr>\n",
              "      <th>uniq_Opnd</th>\n",
              "      <td>-113.878039</td>\n",
              "    </tr>\n",
              "    <tr>\n",
              "      <th>loc</th>\n",
              "      <td>-113.873193</td>\n",
              "    </tr>\n",
              "    <tr>\n",
              "      <th>I</th>\n",
              "      <td>-113.817281</td>\n",
              "    </tr>\n",
              "    <tr>\n",
              "      <th>B</th>\n",
              "      <td>-113.718709</td>\n",
              "    </tr>\n",
              "    <tr>\n",
              "      <th>lOCode</th>\n",
              "      <td>-113.675764</td>\n",
              "    </tr>\n",
              "    <tr>\n",
              "      <th>uniq_Op</th>\n",
              "      <td>-113.650467</td>\n",
              "    </tr>\n",
              "    <tr>\n",
              "      <th>L</th>\n",
              "      <td>-113.650459</td>\n",
              "    </tr>\n",
              "    <tr>\n",
              "      <th>v(g)</th>\n",
              "      <td>-113.630226</td>\n",
              "    </tr>\n",
              "    <tr>\n",
              "      <th>branchCount</th>\n",
              "      <td>-113.625174</td>\n",
              "    </tr>\n",
              "    <tr>\n",
              "      <th>total_Opnd</th>\n",
              "      <td>-113.62265</td>\n",
              "    </tr>\n",
              "    <tr>\n",
              "      <th>V</th>\n",
              "      <td>-113.620127</td>\n",
              "    </tr>\n",
              "    <tr>\n",
              "      <th>T</th>\n",
              "      <td>-113.620127</td>\n",
              "    </tr>\n",
              "    <tr>\n",
              "      <th>ev(g)</th>\n",
              "      <td>-113.617592</td>\n",
              "    </tr>\n",
              "    <tr>\n",
              "      <th>E</th>\n",
              "      <td>-113.615082</td>\n",
              "    </tr>\n",
              "    <tr>\n",
              "      <th>total_Op</th>\n",
              "      <td>-113.615059</td>\n",
              "    </tr>\n",
              "    <tr>\n",
              "      <th>iv(G)</th>\n",
              "      <td>-113.60244</td>\n",
              "    </tr>\n",
              "    <tr>\n",
              "      <th>D</th>\n",
              "      <td>-113.602429</td>\n",
              "    </tr>\n",
              "    <tr>\n",
              "      <th>N</th>\n",
              "      <td>-113.602429</td>\n",
              "    </tr>\n",
              "  </tbody>\n",
              "</table>\n",
              "</div>\n",
              "      <button class=\"colab-df-convert\" onclick=\"convertToInteractive('df-84ef418e-eb9d-4d3b-82f4-5cdf1f999725')\"\n",
              "              title=\"Convert this dataframe to an interactive table.\"\n",
              "              style=\"display:none;\">\n",
              "        \n",
              "  <svg xmlns=\"http://www.w3.org/2000/svg\" height=\"24px\"viewBox=\"0 0 24 24\"\n",
              "       width=\"24px\">\n",
              "    <path d=\"M0 0h24v24H0V0z\" fill=\"none\"/>\n",
              "    <path d=\"M18.56 5.44l.94 2.06.94-2.06 2.06-.94-2.06-.94-.94-2.06-.94 2.06-2.06.94zm-11 1L8.5 8.5l.94-2.06 2.06-.94-2.06-.94L8.5 2.5l-.94 2.06-2.06.94zm10 10l.94 2.06.94-2.06 2.06-.94-2.06-.94-.94-2.06-.94 2.06-2.06.94z\"/><path d=\"M17.41 7.96l-1.37-1.37c-.4-.4-.92-.59-1.43-.59-.52 0-1.04.2-1.43.59L10.3 9.45l-7.72 7.72c-.78.78-.78 2.05 0 2.83L4 21.41c.39.39.9.59 1.41.59.51 0 1.02-.2 1.41-.59l7.78-7.78 2.81-2.81c.8-.78.8-2.07 0-2.86zM5.41 20L4 18.59l7.72-7.72 1.47 1.35L5.41 20z\"/>\n",
              "  </svg>\n",
              "      </button>\n",
              "      \n",
              "  <style>\n",
              "    .colab-df-container {\n",
              "      display:flex;\n",
              "      flex-wrap:wrap;\n",
              "      gap: 12px;\n",
              "    }\n",
              "\n",
              "    .colab-df-convert {\n",
              "      background-color: #E8F0FE;\n",
              "      border: none;\n",
              "      border-radius: 50%;\n",
              "      cursor: pointer;\n",
              "      display: none;\n",
              "      fill: #1967D2;\n",
              "      height: 32px;\n",
              "      padding: 0 0 0 0;\n",
              "      width: 32px;\n",
              "    }\n",
              "\n",
              "    .colab-df-convert:hover {\n",
              "      background-color: #E2EBFA;\n",
              "      box-shadow: 0px 1px 2px rgba(60, 64, 67, 0.3), 0px 1px 3px 1px rgba(60, 64, 67, 0.15);\n",
              "      fill: #174EA6;\n",
              "    }\n",
              "\n",
              "    [theme=dark] .colab-df-convert {\n",
              "      background-color: #3B4455;\n",
              "      fill: #D2E3FC;\n",
              "    }\n",
              "\n",
              "    [theme=dark] .colab-df-convert:hover {\n",
              "      background-color: #434B5C;\n",
              "      box-shadow: 0px 1px 3px 1px rgba(0, 0, 0, 0.15);\n",
              "      filter: drop-shadow(0px 1px 2px rgba(0, 0, 0, 0.3));\n",
              "      fill: #FFFFFF;\n",
              "    }\n",
              "  </style>\n",
              "\n",
              "      <script>\n",
              "        const buttonEl =\n",
              "          document.querySelector('#df-84ef418e-eb9d-4d3b-82f4-5cdf1f999725 button.colab-df-convert');\n",
              "        buttonEl.style.display =\n",
              "          google.colab.kernel.accessAllowed ? 'block' : 'none';\n",
              "\n",
              "        async function convertToInteractive(key) {\n",
              "          const element = document.querySelector('#df-84ef418e-eb9d-4d3b-82f4-5cdf1f999725');\n",
              "          const dataTable =\n",
              "            await google.colab.kernel.invokeFunction('convertToInteractive',\n",
              "                                                     [key], {});\n",
              "          if (!dataTable) return;\n",
              "\n",
              "          const docLinkHtml = 'Like what you see? Visit the ' +\n",
              "            '<a target=\"_blank\" href=https://colab.research.google.com/notebooks/data_table.ipynb>data table notebook</a>'\n",
              "            + ' to learn more about interactive tables.';\n",
              "          element.innerHTML = '';\n",
              "          dataTable['output_type'] = 'display_data';\n",
              "          await google.colab.output.renderOutput(dataTable, element);\n",
              "          const docLink = document.createElement('div');\n",
              "          docLink.innerHTML = docLinkHtml;\n",
              "          element.appendChild(docLink);\n",
              "        }\n",
              "      </script>\n",
              "    </div>\n",
              "  </div>\n",
              "  "
            ]
          },
          "metadata": {},
          "execution_count": 38
        }
      ]
    }
  ],
  "metadata": {
    "colab": {
      "provenance": [],
      "collapsed_sections": [
        "fYRB58lNnHAX",
        "xQcwXWF97TrR",
        "nvKrH0aUlvC-",
        "mtvHAgCLtPXm",
        "_NNGxuw4ucIB"
      ]
    },
    "kernelspec": {
      "display_name": "Python 3",
      "language": "python",
      "name": "python3"
    },
    "language_info": {
      "codemirror_mode": {
        "name": "ipython",
        "version": 3
      },
      "file_extension": ".py",
      "mimetype": "text/x-python",
      "name": "python",
      "nbconvert_exporter": "python",
      "pygments_lexer": "ipython3",
      "version": "3.7.4"
    }
  },
  "nbformat": 4,
  "nbformat_minor": 0
}